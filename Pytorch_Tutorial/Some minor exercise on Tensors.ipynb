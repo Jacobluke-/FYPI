{
  "nbformat": 4,
  "nbformat_minor": 0,
  "metadata": {
    "colab": {
      "name": "Untitled0.ipynb",
      "provenance": [],
      "authorship_tag": "ABX9TyMmmpVTDczESrhWL1gX/Djo",
      "include_colab_link": true
    },
    "kernelspec": {
      "name": "python3",
      "display_name": "Python 3"
    },
    "language_info": {
      "name": "python"
    }
  },
  "cells": [
    {
      "cell_type": "markdown",
      "metadata": {
        "id": "view-in-github",
        "colab_type": "text"
      },
      "source": [
        "<a href=\"https://colab.research.google.com/github/Jacobluke-/FYPI/blob/main/Pytorch_Tutorial/Some%20minor%20exercise%20on%20Tensors.ipynb\" target=\"_parent\"><img src=\"https://colab.research.google.com/assets/colab-badge.svg\" alt=\"Open In Colab\"/></a>"
      ]
    },
    {
      "cell_type": "code",
      "metadata": {
        "colab": {
          "base_uri": "https://localhost:8080/"
        },
        "id": "0mBtKyupioLA",
        "outputId": "101069b7-ea3a-45d5-8877-20f2c2f6f0bb"
      },
      "source": [
        "import torch\n",
        "torch.manual_seed(1)"
      ],
      "execution_count": 1,
      "outputs": [
        {
          "output_type": "execute_result",
          "data": {
            "text/plain": [
              "<torch._C.Generator at 0x7f5de94ea990>"
            ]
          },
          "metadata": {
            "tags": []
          },
          "execution_count": 1
        }
      ]
    },
    {
      "cell_type": "code",
      "metadata": {
        "colab": {
          "base_uri": "https://localhost:8080/"
        },
        "id": "gaJsu-pfi0SJ",
        "outputId": "ced42d26-d810-4516-b95e-209e691dcb76"
      },
      "source": [
        "x_1 = torch.randn(2,5)\n",
        "y_1 = torch.randn(3,5)\n",
        "z_1 = torch.cat([x_1,y_1])\n",
        "print(x_1,\"\\n\",y_1,\"\\n\",z_1)\n",
        "# This concatenates along the first axis(row)"
      ],
      "execution_count": 2,
      "outputs": [
        {
          "output_type": "stream",
          "text": [
            "tensor([[ 0.6614,  0.2669,  0.0617,  0.6213, -0.4519],\n",
            "        [-0.1661, -1.5228,  0.3817, -1.0276, -0.5631]]) \n",
            " tensor([[-0.8923, -0.0583, -0.1955, -0.9656,  0.4224],\n",
            "        [ 0.2673, -0.4212, -0.5107, -1.5727, -0.1232],\n",
            "        [ 3.5870, -1.8313,  1.5987, -1.2770,  0.3255]]) \n",
            " tensor([[ 0.6614,  0.2669,  0.0617,  0.6213, -0.4519],\n",
            "        [-0.1661, -1.5228,  0.3817, -1.0276, -0.5631],\n",
            "        [-0.8923, -0.0583, -0.1955, -0.9656,  0.4224],\n",
            "        [ 0.2673, -0.4212, -0.5107, -1.5727, -0.1232],\n",
            "        [ 3.5870, -1.8313,  1.5987, -1.2770,  0.3255]])\n"
          ],
          "name": "stdout"
        }
      ]
    },
    {
      "cell_type": "code",
      "metadata": {
        "colab": {
          "base_uri": "https://localhost:8080/"
        },
        "id": "tsMy1R3WkTDq",
        "outputId": "e4271b7d-450f-40f4-f9a5-964ae3bbd483"
      },
      "source": [
        "x_2 = torch.randn(2,3)\n",
        "y_2 = torch.randn(2,5)\n",
        "# The second argument specifies which axis to concatenate along\n",
        "z_2 = torch.cat([x_2,y_2],1)\n",
        "print(x_2,\"\\n\",y_2,\"\\n\",z_2)"
      ],
      "execution_count": 3,
      "outputs": [
        {
          "output_type": "stream",
          "text": [
            "tensor([[-0.4791,  1.3790,  2.5286],\n",
            "        [ 0.4107, -0.9880, -0.9081]]) \n",
            " tensor([[ 0.5423,  0.1103, -2.2590,  0.6067, -0.1383],\n",
            "        [ 0.8310, -0.2477, -0.8029,  0.2366,  0.2857]]) \n",
            " tensor([[-0.4791,  1.3790,  2.5286,  0.5423,  0.1103, -2.2590,  0.6067, -0.1383],\n",
            "        [ 0.4107, -0.9880, -0.9081,  0.8310, -0.2477, -0.8029,  0.2366,  0.2857]])\n"
          ],
          "name": "stdout"
        }
      ]
    },
    {
      "cell_type": "markdown",
      "metadata": {
        "id": "TCBM4uH9l5AH"
      },
      "source": [
        "## Reshaping Tensors\n",
        "Use the .view() method to reshape a tensor. This method receives heavy use, *because many neural network components expect their inputs to have a certain shape.* Often you will need to reshape before passing your data to the component."
      ]
    },
    {
      "cell_type": "code",
      "metadata": {
        "colab": {
          "base_uri": "https://localhost:8080/"
        },
        "id": "4q_WZrjOmNm-",
        "outputId": "31b5820e-d518-4c92-e683-dd6b99bbb437"
      },
      "source": [
        "x = torch.randn(2,3,4)\n",
        "print(x)\n",
        "print(x.view(2,12))# Reshape this tensor to 2 rows, 12 columns\n",
        "#If one of the argument of the dimensions is -1, its size can be automatically inferred\n",
        "print(x.view(2,-1))\n",
        "print(x.view(4,-1))"
      ],
      "execution_count": 4,
      "outputs": [
        {
          "output_type": "stream",
          "text": [
            "tensor([[[-1.4344, -0.5008,  0.1716, -0.1600],\n",
            "         [-0.5047, -1.4746, -0.3416, -0.3003],\n",
            "         [ 1.2466,  0.5057,  0.9505,  1.2966]],\n",
            "\n",
            "        [[ 0.8738, -0.5603,  1.2858,  0.8168],\n",
            "         [-1.4648, -1.2629,  1.1220,  1.5663],\n",
            "         [ 2.5581, -0.2334, -0.0135,  1.8606]]])\n",
            "tensor([[-1.4344, -0.5008,  0.1716, -0.1600, -0.5047, -1.4746, -0.3416, -0.3003,\n",
            "          1.2466,  0.5057,  0.9505,  1.2966],\n",
            "        [ 0.8738, -0.5603,  1.2858,  0.8168, -1.4648, -1.2629,  1.1220,  1.5663,\n",
            "          2.5581, -0.2334, -0.0135,  1.8606]])\n",
            "tensor([[-1.4344, -0.5008,  0.1716, -0.1600, -0.5047, -1.4746, -0.3416, -0.3003,\n",
            "          1.2466,  0.5057,  0.9505,  1.2966],\n",
            "        [ 0.8738, -0.5603,  1.2858,  0.8168, -1.4648, -1.2629,  1.1220,  1.5663,\n",
            "          2.5581, -0.2334, -0.0135,  1.8606]])\n",
            "tensor([[-1.4344, -0.5008,  0.1716, -0.1600, -0.5047, -1.4746],\n",
            "        [-0.3416, -0.3003,  1.2466,  0.5057,  0.9505,  1.2966],\n",
            "        [ 0.8738, -0.5603,  1.2858,  0.8168, -1.4648, -1.2629],\n",
            "        [ 1.1220,  1.5663,  2.5581, -0.2334, -0.0135,  1.8606]])\n"
          ],
          "name": "stdout"
        }
      ]
    },
    {
      "cell_type": "code",
      "metadata": {
        "colab": {
          "base_uri": "https://localhost:8080/"
        },
        "id": "HpajFTCWpHS0",
        "outputId": "d9f806bc-3564-4e92-9264-a40156b007db"
      },
      "source": [
        "x = torch.tensor([1.,2.,3.],requires_grad=True)\n",
        "y = torch.tensor([4.,5.,6.],requires_grad=True)\n",
        "z = x+y\n",
        "print(z)\n",
        "print(z.grad_fn)"
      ],
      "execution_count": 5,
      "outputs": [
        {
          "output_type": "stream",
          "text": [
            "tensor([5., 7., 9.], grad_fn=<AddBackward0>)\n",
            "<AddBackward0 object at 0x7f5de85cedd0>\n"
          ],
          "name": "stdout"
        }
      ]
    },
    {
      "cell_type": "markdown",
      "metadata": {
        "id": "SB5yXmsvpxL0"
      },
      "source": [
        "Tensors know what created them. z knows that it wasn't read in from a file, and it wasn't the result of a multiplication or exponential or what so ever. "
      ]
    },
    {
      "cell_type": "code",
      "metadata": {
        "colab": {
          "base_uri": "https://localhost:8080/"
        },
        "id": "MWFUVNgfpw8F",
        "outputId": "b7bd6862-f8d0-44d7-943a-95a8c68c8de1"
      },
      "source": [
        "s = z.sum()\n",
        "print(s)\n",
        "print(s.grad_fn)"
      ],
      "execution_count": 6,
      "outputs": [
        {
          "output_type": "stream",
          "text": [
            "tensor(21., grad_fn=<SumBackward0>)\n",
            "<SumBackward0 object at 0x7f5de85dc0d0>\n"
          ],
          "name": "stdout"
        }
      ]
    },
    {
      "cell_type": "code",
      "metadata": {
        "colab": {
          "base_uri": "https://localhost:8080/"
        },
        "id": "oyWt14cDqOBO",
        "outputId": "9c41ed79-facd-4898-a5f1-d01fb3aef12a"
      },
      "source": [
        "x.grad.data.zero_()\n",
        "s.backward()\n",
        "print(x.grad)\n"
      ],
      "execution_count": 10,
      "outputs": [
        {
          "output_type": "stream",
          "text": [
            "tensor([1., 1., 1.])\n"
          ],
          "name": "stdout"
        }
      ]
    },
    {
      "cell_type": "code",
      "metadata": {
        "colab": {
          "base_uri": "https://localhost:8080/"
        },
        "id": "iV-6hznkr39e",
        "outputId": "70cba038-b9ea-4f16-b58d-bee0e1f66978"
      },
      "source": [
        "x = torch.randn(2,2)\n",
        "y = torch.randn(2,2)\n",
        "print(x.requires_grad, y.requires_grad)\n",
        "z = x + y\n",
        "print(z.grad_fn)"
      ],
      "execution_count": 14,
      "outputs": [
        {
          "output_type": "stream",
          "text": [
            "False False\n",
            "None\n"
          ],
          "name": "stdout"
        }
      ]
    },
    {
      "cell_type": "code",
      "metadata": {
        "colab": {
          "base_uri": "https://localhost:8080/"
        },
        "id": "IiEpvZKHxjnC",
        "outputId": "f2cd03b4-d8c2-46a4-f09a-5787a6415643"
      },
      "source": [
        "x = x.requires_grad_()\n",
        "y = y.requires_grad_()\n",
        "z = x + y\n",
        "print(z.grad_fn)\n",
        "print(z.requires_grad)"
      ],
      "execution_count": 17,
      "outputs": [
        {
          "output_type": "stream",
          "text": [
            "<AddBackward0 object at 0x7f5de848b210>\n",
            "True\n"
          ],
          "name": "stdout"
        }
      ]
    },
    {
      "cell_type": "code",
      "metadata": {
        "colab": {
          "base_uri": "https://localhost:8080/"
        },
        "id": "eZYo2QTTyKIa",
        "outputId": "1fa80856-b83c-4800-fba3-2bb15cee944b"
      },
      "source": [
        "new_z = z.detach()\n",
        "print(new_z.grad_fn)"
      ],
      "execution_count": 20,
      "outputs": [
        {
          "output_type": "stream",
          "text": [
            "None\n"
          ],
          "name": "stdout"
        }
      ]
    },
    {
      "cell_type": "code",
      "metadata": {
        "colab": {
          "base_uri": "https://localhost:8080/"
        },
        "id": "tw5kWx1Cyw_J",
        "outputId": "8961a885-5cd1-4c57-87c7-843be1cd76c8"
      },
      "source": [
        "print(x.requires_grad)\n",
        "print((x**2).requires_grad)\n",
        "\n",
        "with torch.no_grad():\n",
        "  print((x**2).requires_grad)"
      ],
      "execution_count": 22,
      "outputs": [
        {
          "output_type": "stream",
          "text": [
            "True\n",
            "True\n",
            "False\n"
          ],
          "name": "stdout"
        }
      ]
    }
  ]
}