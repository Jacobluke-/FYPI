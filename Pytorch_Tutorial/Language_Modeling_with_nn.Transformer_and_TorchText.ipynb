{
  "nbformat": 4,
  "nbformat_minor": 0,
  "metadata": {
    "colab": {
      "name": "Untitled3.ipynb",
      "provenance": [],
      "authorship_tag": "ABX9TyOU5WVfCt1aNlGfJVmKFRQN",
      "include_colab_link": true
    },
    "kernelspec": {
      "name": "python3",
      "display_name": "Python 3"
    },
    "language_info": {
      "name": "python"
    },
    "accelerator": "GPU"
  },
  "cells": [
    {
      "cell_type": "markdown",
      "metadata": {
        "id": "view-in-github",
        "colab_type": "text"
      },
      "source": [
        "<a href=\"https://colab.research.google.com/github/Jacobluke-/FYPI/blob/main/Pytorch_Tutorial/Language_Modeling_with_nn.Transformer_and_TorchText.ipynb\" target=\"_parent\"><img src=\"https://colab.research.google.com/assets/colab-badge.svg\" alt=\"Open In Colab\"/></a>"
      ]
    },
    {
      "cell_type": "markdown",
      "metadata": {
        "id": "jlym0B0gftkp"
      },
      "source": [
        "Language Modeling with nn.Transformer and TorchText\n",
        "===============================================================\n",
        "\n",
        "This is a tutorial on how to train a sequence-to-sequence model\n",
        "that uses the\n",
        "`nn.Transformer <https://pytorch.org/docs/stable/generated/torch.nn.Transformer.html>`__ module.\n",
        "\n",
        "PyTorch 1.2 release includes a standard transformer module based on the\n",
        "paper `Attention is All You\n",
        "Need <https://arxiv.org/pdf/1706.03762.pdf>`__. The transformer model\n",
        "has been proved to be superior in quality for many sequence-to-sequence\n",
        "problems while being more parallelizable. The ``nn.Transformer`` module\n",
        "relies entirely on an attention mechanism (another module recently\n",
        "implemented as `nn.MultiheadAttention <https://pytorch.org/docs/stable/generated/torch.nn.MultiheadAttention.html>`__) to draw global dependencies\n",
        "between input and output. The ``nn.Transformer`` module is now highly\n",
        "modularized such that a single component (like `nn.TransformerEncoder <https://pytorch.org/docs/stable/generated/torch.nn.TransformerEncoder.html>`__\n",
        "in this tutorial) can be easily adapted/composed.\n",
        "\n",
        "![transformer_architecture.jpg](https://pytorch.org/tutorials/_images/transformer_architecture.jpg)"
      ]
    },
    {
      "cell_type": "markdown",
      "metadata": {
        "id": "8jkLzW3dhFX_"
      },
      "source": [
        "Define the model\n",
        "----------------\n",
        "\n",
        "\n"
      ]
    },
    {
      "cell_type": "markdown",
      "metadata": {
        "id": "K7paAQirhI6P"
      },
      "source": [
        "In this tutorial, we train ``nn.TransformerEncoder`` model on a\n",
        "language modeling task. The language modeling task is to assign a\n",
        "probability for the likelihood of a given word (or a sequence of words)\n",
        "to follow a sequence of words. A sequence of tokens are passed to the embedding\n",
        "layer first, followed by a positional encoding layer to account for the order\n",
        "of the word (see the next paragraph for more details). The\n",
        "``nn.TransformerEncoder`` consists of multiple layers of\n",
        "`nn.TransformerEncoderLayer <https://pytorch.org/docs/stable/generated/torch.nn.TransformerEncoderLayer.html>`__. Along with the input sequence, a square\n",
        "attention mask is required because the self-attention layers in\n",
        "``nn.TransformerEncoder`` are only allowed to attend the earlier positions in\n",
        "the sequence. For the language modeling task, any tokens on the future\n",
        "positions should be masked. To have the actual words, the output\n",
        "of ``nn.TransformerEncoder`` model is sent to the final Linear\n",
        "layer, which is followed by a log-Softmax function.\n",
        "\n",
        "\n"
      ]
    },
    {
      "cell_type": "code",
      "metadata": {
        "id": "KR8fg4mTfaYC"
      },
      "source": [
        "import math\n",
        "\n",
        "import torch\n",
        "import torch.nn as nn\n",
        "import torch.nn.functional as F\n",
        "from torch.nn import TransformerEncoder, TransformerEncoderLayer\n",
        "\n",
        "class TransformerModel(nn.Module):\n",
        "  def __init__(self, ntoken, ninp, nhead, nihid, nlayers, dropout = 0.5):\n",
        "    super(TransformerModel, self).__init__()\n",
        "    self.model_type = 'Transformer'\n",
        "    self.pos_encoder = PositionalEncoding(ninp, dropout)\n",
        "    encoder_layers = TransformerEncoderLayer(ninp, nhead, nhid, dropout)\n",
        "    self.transformer_encoder = TransformerEncoder(encoder_layers, nlayers)\n",
        "    self.encoder = nn.Embedding(ntoken, ninp)\n",
        "    self.ninp = ninp\n",
        "    self.decoder = nn.Linear(ninp, ntoken)\n",
        "\n",
        "    self.init_weights()\n",
        "\n",
        "  def generate_square_subsequent_mask(self, sz): \n",
        "    # generate a matrix like \n",
        "    # tensor([[0., -inf, -inf],\n",
        "    #         [0., 0., -inf],\n",
        "    #         [0., 0., 0.]])\n",
        "    # but why not use torch.tril()?\n",
        "    mask = (torch.triu(torch.ones(sz,sz)) == 1).transpose(0,1)\n",
        "    mask = mask.float().masked_fill(mask == 0, float('-inf')).masked_fill(mask == 1, float(0.0))\n",
        "    return mask\n",
        "\n",
        "  def init_weights(self):\n",
        "    initrange = 0.1\n",
        "    self.encoder.weight.data.uniform_(-initrange,initrange)\n",
        "    self.decoder.bias.data.zero_()\n",
        "    self.decoder.weight.data.uniform_(-initrange,initrange)\n",
        "  \n",
        "  def forward(self, src, src_mask):\n",
        "    src = self.encoder(src)*math.sqrt(self.ninp)\n",
        "    src = self.pos_encoder(src)\n",
        "    output = self.transformer_encoder(src, src_mask)\n",
        "    output = self.decoder(output)\n",
        "    return output"
      ],
      "execution_count": 7,
      "outputs": []
    },
    {
      "cell_type": "markdown",
      "metadata": {
        "id": "8ZOxHklHvl8l"
      },
      "source": [
        "** PositionalEncoding ** module injects some information about the relative or absolute position of the tokens in the sequence. The positional encodings have the same dimension as the embeddings so that the two can be summed. Here, we use sine and cosine functions of different frequencies."
      ]
    },
    {
      "cell_type": "code",
      "metadata": {
        "id": "j_BQvjGSvtAL"
      },
      "source": [
        "class PositionalEncoding(nn.Module):\n",
        "  def __init__(self,d_model, dropout = 0.1, max_len = 5000):\n",
        "    super(PositionalEncoding, self).__init__()\n",
        "    self.dropout = nn.Dropout(p = dropout)\n",
        "\n",
        "    pe = torch.zeros(max_len, d_model)\n",
        "    position = torch.arange(0, max_len, dtype=torch.float).unsqueeze(1)\n",
        "    div_term = torch.exp(torch.arange(0, d_model, 2).float() * (-math.log(10000.0) / d_model))\n",
        "    pe[:, 0::2] = torch.sin(position * div_term)\n",
        "    pe[:, 1::2] = torch.cos(position * div_term)\n",
        "    pe = pe.unsqueeze(0).transpose(0, 1)\n",
        "    self.register_buffer('pe', pe)\n",
        "\n",
        "  def forward(self, x):\n",
        "    x = x + self.pe[:x.size(0), :]\n",
        "    return self.dropout(x)"
      ],
      "execution_count": 8,
      "outputs": []
    },
    {
      "cell_type": "markdown",
      "metadata": {
        "id": "JFvDwDsXwVj7"
      },
      "source": [
        "Load and batch data\n",
        "-------------------"
      ]
    },
    {
      "cell_type": "markdown",
      "metadata": {
        "id": "kJ63DCzCw2De"
      },
      "source": [
        "This tutorial uses ``torchtext`` to generate Wikitext-2 dataset. The\n",
        "vocab object is built based on the train dataset and is used to numericalize\n",
        "tokens into tensors. Starting from sequential data, the ``batchify()``\n",
        "function arranges the dataset into columns, trimming off any tokens remaining\n",
        "after the data has been divided into batches of size ``batch_size``.\n",
        "For instance, with the alphabet as the sequence (total length of 26)\n",
        "and a batch size of 4, we would divide the alphabet into 4 sequences of\n",
        "length 6:\n",
        "\n",
        "\\begin{align}\\begin{bmatrix}\n",
        "  \\text{A} & \\text{B} & \\text{C} & \\ldots & \\text{X} & \\text{Y} & \\text{Z}\n",
        "  \\end{bmatrix}\n",
        "  \\Rightarrow\n",
        "  \\begin{bmatrix}\n",
        "  \\begin{bmatrix}\\text{A} \\\\ \\text{B} \\\\ \\text{C} \\\\ \\text{D} \\\\ \\text{E} \\\\ \\text{F}\\end{bmatrix} &\n",
        "  \\begin{bmatrix}\\text{G} \\\\ \\text{H} \\\\ \\text{I} \\\\ \\text{J} \\\\ \\text{K} \\\\ \\text{L}\\end{bmatrix} &\n",
        "  \\begin{bmatrix}\\text{M} \\\\ \\text{N} \\\\ \\text{O} \\\\ \\text{P} \\\\ \\text{Q} \\\\ \\text{R}\\end{bmatrix} &\n",
        "  \\begin{bmatrix}\\text{S} \\\\ \\text{T} \\\\ \\text{U} \\\\ \\text{V} \\\\ \\text{W} \\\\ \\text{X}\\end{bmatrix}\n",
        "  \\end{bmatrix}\\end{align}\n",
        "\n",
        "These columns are treated as independent by the model, which means that\n",
        "the dependence of ``G`` and ``F`` can not be learned, but allows more\n",
        "efficient batch processing.\n"
      ]
    },
    {
      "cell_type": "code",
      "metadata": {
        "id": "FTCX-4rjxTPn"
      },
      "source": [
        "import torch\n",
        "from torchtext.datasets import WikiText2\n",
        "from torchtext.data.utils import get_tokenizer\n",
        "from torchtext.vocab import build_vocab_from_iterator\n",
        "\n",
        "train_iter = WikiText2(split='train')\n",
        "tokenizer = get_tokenizer('basic_english')\n",
        "vocab = build_vocab_from_iterator(map(tokenizer, train_iter), specials=[\"<unk>\"])\n",
        "vocab.set_default_index(vocab[\"<unk>\"]) \n",
        "\n",
        "def data_process(raw_text_iter):\n",
        "  data = [torch.tensor(vocab(tokenizer(item)), dtype=torch.long) for item in raw_text_iter]\n",
        "  return torch.cat(tuple(filter(lambda t: t.numel() > 0, data)))\n",
        "\n",
        "train_iter, val_iter, test_iter = WikiText2()\n",
        "train_data = data_process(train_iter)\n",
        "val_data = data_process(val_iter)\n",
        "test_data = data_process(test_iter)\n",
        "\n",
        "device = torch.device(\"cuda\" if torch.cuda.is_available() else \"cpu\")\n",
        "\n",
        "def batchify(data, bsz):\n",
        "    # Divide the dataset into bsz parts.\n",
        "    nbatch = data.size(0) // bsz\n",
        "    # Trim off any extra elements that wouldn't cleanly fit (remainders).\n",
        "    data = data.narrow(0, 0, nbatch * bsz)\n",
        "    # Evenly divide the data across the bsz batches.\n",
        "    data = data.view(bsz, -1).t().contiguous()\n",
        "    return data.to(device)\n",
        "\n",
        "batch_size = 20\n",
        "eval_batch_size = 10\n",
        "train_data = batchify(train_data, batch_size)\n",
        "val_data = batchify(val_data, eval_batch_size)\n",
        "test_data = batchify(test_data, eval_batch_size)"
      ],
      "execution_count": 9,
      "outputs": []
    },
    {
      "cell_type": "markdown",
      "metadata": {
        "id": "9iWsAAy61joC"
      },
      "source": [
        "Functions to generate input and target sequence\n",
        "~~~~~~~~~~~~~~~~~~~~~~\n"
      ]
    },
    {
      "cell_type": "markdown",
      "metadata": {
        "id": "YtOyXkLS1p9G"
      },
      "source": [
        "``get_batch()`` function generates the input and target sequence for\n",
        "the transformer model. It subdivides the source data into chunks of\n",
        "length ``bptt``. For the language modeling task, the model needs the\n",
        "following words as ``Target``. For example, with a ``bptt`` value of 2,\n",
        "we’d get the following two Variables for ``i`` = 0:\n",
        "\n",
        "![](https://pytorch.org/tutorials/_images/transformer_input_target1.png)\n",
        "\n",
        "\n",
        "It should be noted that the chunks are along dimension 0, consistent\n",
        "with the ``S`` dimension in the Transformer model. The batch dimension\n",
        "``N`` is along dimension 1.\n",
        "\n",
        "\n"
      ]
    },
    {
      "cell_type": "code",
      "metadata": {
        "id": "rPpmUGOf1wsU"
      },
      "source": [
        "bptt = 35\n",
        "def get_batch(source, i):\n",
        "    seq_len = min(bptt, len(source) - 1 - i)\n",
        "    data = source[i:i+seq_len]\n",
        "    target = source[i+1:i+1+seq_len].reshape(-1)\n",
        "    return data, target"
      ],
      "execution_count": 10,
      "outputs": []
    },
    {
      "cell_type": "markdown",
      "metadata": {
        "id": "LecFxOm_2F8P"
      },
      "source": [
        "Initiate an instance\n",
        "--------------------\n"
      ]
    },
    {
      "cell_type": "markdown",
      "metadata": {
        "id": "MdVbipel2G_-"
      },
      "source": [
        "The model is set up with the hyperparameter below. The vocab size is\n",
        "equal to the length of the vocab object.\n",
        "\n",
        "\n"
      ]
    },
    {
      "cell_type": "code",
      "metadata": {
        "id": "f3Txw8AE2LuS"
      },
      "source": [
        "ntokens = len(vocab) # the size of vocabulary\n",
        "emsize = 200 # embedding dimension\n",
        "nhid = 200 # the dimension of the feedforward network model in nn.TransformerEncoder\n",
        "nlayers = 2 # the number of nn.TransformerEncoderLayer in nn.TransformerEncoder\n",
        "nhead = 2 # the number of heads in the multiheadattention models\n",
        "dropout = 0.2 # the dropout value\n",
        "model = TransformerModel(ntokens, emsize, nhead, nhid, nlayers, dropout).to(device)"
      ],
      "execution_count": 11,
      "outputs": []
    },
    {
      "cell_type": "markdown",
      "metadata": {
        "id": "8c2bth4D2VSc"
      },
      "source": [
        "`CrossEntropyLoss <https://pytorch.org/docs/master/nn.html?highlight=crossentropyloss#torch.nn.CrossEntropyLoss>`__\n",
        "is applied to track the loss and\n",
        "`SGD <https://pytorch.org/docs/master/optim.html?highlight=sgd#torch.optim.SGD>`__\n",
        "implements stochastic gradient descent method as the optimizer. The initial\n",
        "learning rate is set to 5.0. `StepLR <https://pytorch.org/docs/master/optim.html?highlight=steplr#torch.optim.lr_scheduler.StepLR>`__ is\n",
        "applied to adjust the learn rate through epochs. During the\n",
        "training, we use\n",
        "\"nn.utils.clip_grad_norm_\" <https://pytorch.org/docs/master/nn.html?highlight=nn%20utils%20clip_grad_norm#torch.nn.utils.clip_grad_norm_>\n",
        "function to scale all the gradient together to prevent exploding.\n",
        "\n",
        "\n"
      ]
    },
    {
      "cell_type": "code",
      "metadata": {
        "id": "_3SYurOx3GEU"
      },
      "source": [
        "import time\n",
        "\n",
        "criterion = nn.CrossEntropyLoss()\n",
        "lr = 5.0 # learning rate\n",
        "optimizer = torch.optim.SGD(model.parameters(), lr=lr)\n",
        "scheduler = torch.optim.lr_scheduler.StepLR(optimizer, 1.0, gamma=0.95)\n",
        "\n",
        "def train():\n",
        "    model.train() # Turn on the train mode\n",
        "    total_loss = 0.\n",
        "    start_time = time.time()\n",
        "    src_mask = model.generate_square_subsequent_mask(bptt).to(device)\n",
        "    for batch, i in enumerate(range(0, train_data.size(0) - 1, bptt)):\n",
        "        data, targets = get_batch(train_data, i)\n",
        "        optimizer.zero_grad()\n",
        "        if data.size(0) != bptt:\n",
        "            src_mask = model.generate_square_subsequent_mask(data.size(0)).to(device)\n",
        "        output = model(data, src_mask)\n",
        "        loss = criterion(output.view(-1, ntokens), targets)\n",
        "        loss.backward()\n",
        "        torch.nn.utils.clip_grad_norm_(model.parameters(), 0.5)\n",
        "        optimizer.step()\n",
        "\n",
        "        total_loss += loss.item()\n",
        "        log_interval = 200\n",
        "        if batch % log_interval == 0 and batch > 0:\n",
        "            cur_loss = total_loss / log_interval\n",
        "            elapsed = time.time() - start_time\n",
        "            print('| epoch {:3d} | {:5d}/{:5d} batches | '\n",
        "                  'lr {:02.2f} | ms/batch {:5.2f} | '\n",
        "                  'loss {:5.2f} | ppl {:8.2f}'.format(\n",
        "                    epoch, batch, len(train_data) // bptt, scheduler.get_last_lr()[0],\n",
        "                    elapsed * 1000 / log_interval,\n",
        "                    cur_loss, math.exp(cur_loss)))\n",
        "            total_loss = 0\n",
        "            start_time = time.time()\n",
        "\n",
        "def evaluate(eval_model, data_source):\n",
        "    eval_model.eval() # Turn on the evaluation mode\n",
        "    total_loss = 0.\n",
        "    src_mask = model.generate_square_subsequent_mask(bptt).to(device)\n",
        "    with torch.no_grad():\n",
        "        for i in range(0, data_source.size(0) - 1, bptt):\n",
        "            data, targets = get_batch(data_source, i)\n",
        "            if data.size(0) != bptt:\n",
        "                src_mask = model.generate_square_subsequent_mask(data.size(0)).to(device)\n",
        "            output = eval_model(data, src_mask)\n",
        "            output_flat = output.view(-1, ntokens)\n",
        "            total_loss += len(data) * criterion(output_flat, targets).item()\n",
        "    return total_loss / (len(data_source) - 1)"
      ],
      "execution_count": 12,
      "outputs": []
    },
    {
      "cell_type": "markdown",
      "metadata": {
        "id": "RQCs_mxn3IN8"
      },
      "source": [
        "Loop over epochs. Save the model if the validation loss is the best\n",
        "we've seen so far. Adjust the learning rate after each epoch.\n",
        "\n"
      ]
    },
    {
      "cell_type": "code",
      "metadata": {
        "colab": {
          "base_uri": "https://localhost:8080/"
        },
        "id": "Tmai_YYn3Jih",
        "outputId": "e7af621c-57be-4834-959c-a5258b094cce"
      },
      "source": [
        "best_val_loss = float(\"inf\")\n",
        "epochs = 3 # The number of epochs\n",
        "best_model = None\n",
        "\n",
        "for epoch in range(1, epochs + 1):\n",
        "    epoch_start_time = time.time()\n",
        "    train()\n",
        "    val_loss = evaluate(model, val_data)\n",
        "    print('-' * 89)\n",
        "    print('| end of epoch {:3d} | time: {:5.2f}s | valid loss {:5.2f} | '\n",
        "          'valid ppl {:8.2f}'.format(epoch, (time.time() - epoch_start_time),\n",
        "                                     val_loss, math.exp(val_loss)))\n",
        "    print('-' * 89)\n",
        "\n",
        "    if val_loss < best_val_loss:\n",
        "        best_val_loss = val_loss\n",
        "        best_model = model\n",
        "\n",
        "    scheduler.step()"
      ],
      "execution_count": 13,
      "outputs": [
        {
          "output_type": "stream",
          "text": [
            "| epoch   1 |   200/ 2928 batches | lr 5.00 | ms/batch 17.07 | loss  8.24 | ppl  3802.42\n",
            "| epoch   1 |   400/ 2928 batches | lr 5.00 | ms/batch 15.54 | loss  6.95 | ppl  1042.85\n",
            "| epoch   1 |   600/ 2928 batches | lr 5.00 | ms/batch 15.60 | loss  6.47 | ppl   644.77\n",
            "| epoch   1 |   800/ 2928 batches | lr 5.00 | ms/batch 15.64 | loss  6.32 | ppl   556.40\n",
            "| epoch   1 |  1000/ 2928 batches | lr 5.00 | ms/batch 15.65 | loss  6.21 | ppl   495.76\n",
            "| epoch   1 |  1200/ 2928 batches | lr 5.00 | ms/batch 15.71 | loss  6.16 | ppl   474.40\n",
            "| epoch   1 |  1400/ 2928 batches | lr 5.00 | ms/batch 15.75 | loss  6.12 | ppl   456.75\n",
            "| epoch   1 |  1600/ 2928 batches | lr 5.00 | ms/batch 15.76 | loss  6.11 | ppl   452.54\n",
            "| epoch   1 |  1800/ 2928 batches | lr 5.00 | ms/batch 15.83 | loss  6.04 | ppl   418.06\n",
            "| epoch   1 |  2000/ 2928 batches | lr 5.00 | ms/batch 15.80 | loss  6.02 | ppl   411.65\n",
            "| epoch   1 |  2200/ 2928 batches | lr 5.00 | ms/batch 15.86 | loss  5.91 | ppl   367.62\n",
            "| epoch   1 |  2400/ 2928 batches | lr 5.00 | ms/batch 15.91 | loss  5.98 | ppl   394.14\n",
            "| epoch   1 |  2600/ 2928 batches | lr 5.00 | ms/batch 15.95 | loss  5.95 | ppl   384.98\n",
            "| epoch   1 |  2800/ 2928 batches | lr 5.00 | ms/batch 15.95 | loss  5.89 | ppl   359.95\n",
            "-----------------------------------------------------------------------------------------\n",
            "| end of epoch   1 | time: 48.28s | valid loss  5.78 | valid ppl   324.82\n",
            "-----------------------------------------------------------------------------------------\n",
            "| epoch   2 |   200/ 2928 batches | lr 4.75 | ms/batch 16.13 | loss  5.87 | ppl   355.74\n",
            "| epoch   2 |   400/ 2928 batches | lr 4.75 | ms/batch 16.12 | loss  5.86 | ppl   350.62\n",
            "| epoch   2 |   600/ 2928 batches | lr 4.75 | ms/batch 16.15 | loss  5.67 | ppl   289.83\n",
            "| epoch   2 |   800/ 2928 batches | lr 4.75 | ms/batch 16.21 | loss  5.71 | ppl   302.48\n",
            "| epoch   2 |  1000/ 2928 batches | lr 4.75 | ms/batch 16.23 | loss  5.66 | ppl   287.78\n",
            "| epoch   2 |  1200/ 2928 batches | lr 4.75 | ms/batch 16.28 | loss  5.68 | ppl   293.20\n",
            "| epoch   2 |  1400/ 2928 batches | lr 4.75 | ms/batch 16.34 | loss  5.69 | ppl   297.26\n",
            "| epoch   2 |  1600/ 2928 batches | lr 4.75 | ms/batch 16.37 | loss  5.72 | ppl   303.40\n",
            "| epoch   2 |  1800/ 2928 batches | lr 4.75 | ms/batch 16.36 | loss  5.66 | ppl   287.94\n",
            "| epoch   2 |  2000/ 2928 batches | lr 4.75 | ms/batch 16.42 | loss  5.67 | ppl   290.47\n",
            "| epoch   2 |  2200/ 2928 batches | lr 4.75 | ms/batch 16.43 | loss  5.55 | ppl   258.50\n",
            "| epoch   2 |  2400/ 2928 batches | lr 4.75 | ms/batch 16.48 | loss  5.65 | ppl   284.91\n",
            "| epoch   2 |  2600/ 2928 batches | lr 4.75 | ms/batch 16.54 | loss  5.65 | ppl   283.18\n",
            "| epoch   2 |  2800/ 2928 batches | lr 4.75 | ms/batch 16.59 | loss  5.58 | ppl   265.83\n",
            "-----------------------------------------------------------------------------------------\n",
            "| end of epoch   2 | time: 49.73s | valid loss  5.63 | valid ppl   278.91\n",
            "-----------------------------------------------------------------------------------------\n",
            "| epoch   3 |   200/ 2928 batches | lr 4.51 | ms/batch 16.78 | loss  5.61 | ppl   273.12\n",
            "| epoch   3 |   400/ 2928 batches | lr 4.51 | ms/batch 16.75 | loss  5.63 | ppl   278.33\n",
            "| epoch   3 |   600/ 2928 batches | lr 4.51 | ms/batch 16.77 | loss  5.43 | ppl   228.52\n",
            "| epoch   3 |   800/ 2928 batches | lr 4.51 | ms/batch 16.74 | loss  5.49 | ppl   242.25\n",
            "| epoch   3 |  1000/ 2928 batches | lr 4.51 | ms/batch 16.68 | loss  5.45 | ppl   231.94\n",
            "| epoch   3 |  1200/ 2928 batches | lr 4.51 | ms/batch 16.66 | loss  5.48 | ppl   239.52\n",
            "| epoch   3 |  1400/ 2928 batches | lr 4.51 | ms/batch 16.62 | loss  5.50 | ppl   244.34\n",
            "| epoch   3 |  1600/ 2928 batches | lr 4.51 | ms/batch 16.61 | loss  5.53 | ppl   251.95\n",
            "| epoch   3 |  1800/ 2928 batches | lr 4.51 | ms/batch 16.55 | loss  5.48 | ppl   238.96\n",
            "| epoch   3 |  2000/ 2928 batches | lr 4.51 | ms/batch 16.53 | loss  5.49 | ppl   241.82\n",
            "| epoch   3 |  2200/ 2928 batches | lr 4.51 | ms/batch 16.52 | loss  5.36 | ppl   213.66\n",
            "| epoch   3 |  2400/ 2928 batches | lr 4.51 | ms/batch 16.48 | loss  5.47 | ppl   237.72\n",
            "| epoch   3 |  2600/ 2928 batches | lr 4.51 | ms/batch 16.45 | loss  5.48 | ppl   238.96\n",
            "| epoch   3 |  2800/ 2928 batches | lr 4.51 | ms/batch 16.48 | loss  5.41 | ppl   224.31\n",
            "-----------------------------------------------------------------------------------------\n",
            "| end of epoch   3 | time: 50.50s | valid loss  5.62 | valid ppl   276.17\n",
            "-----------------------------------------------------------------------------------------\n"
          ],
          "name": "stdout"
        }
      ]
    },
    {
      "cell_type": "markdown",
      "metadata": {
        "id": "Rluw6ysA3Mdk"
      },
      "source": [
        "Evaluate the model with the test dataset\n",
        "-------------------------------------\n",
        "\n",
        "Apply the best model to check the result with the test dataset.\n",
        "\n"
      ]
    },
    {
      "cell_type": "code",
      "metadata": {
        "colab": {
          "base_uri": "https://localhost:8080/"
        },
        "id": "KARWJ3ZP3Nn3",
        "outputId": "0123fae7-b0bb-4826-e3ff-bad6f1c52c1b"
      },
      "source": [
        "test_loss = evaluate(best_model, test_data)\n",
        "print('=' * 89)\n",
        "print('| End of training | test loss {:5.2f} | test ppl {:8.2f}'.format(\n",
        "    test_loss, math.exp(test_loss)))\n",
        "print('=' * 89)"
      ],
      "execution_count": 14,
      "outputs": [
        {
          "output_type": "stream",
          "text": [
            "=========================================================================================\n",
            "| End of training | test loss  5.53 | test ppl   252.88\n",
            "=========================================================================================\n"
          ],
          "name": "stdout"
        }
      ]
    }
  ]
}