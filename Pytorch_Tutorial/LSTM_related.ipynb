{
  "nbformat": 4,
  "nbformat_minor": 0,
  "metadata": {
    "colab": {
      "name": "Untitled2.ipynb",
      "provenance": [],
      "authorship_tag": "ABX9TyNWkJ0a+QzS4TgkKW+F6bCT",
      "include_colab_link": true
    },
    "kernelspec": {
      "name": "python3",
      "display_name": "Python 3"
    },
    "language_info": {
      "name": "python"
    }
  },
  "cells": [
    {
      "cell_type": "markdown",
      "metadata": {
        "id": "view-in-github",
        "colab_type": "text"
      },
      "source": [
        "<a href=\"https://colab.research.google.com/github/Jacobluke-/FYPI/blob/main/Pytorch_Tutorial/LSTM_related.ipynb\" target=\"_parent\"><img src=\"https://colab.research.google.com/assets/colab-badge.svg\" alt=\"Open In Colab\"/></a>"
      ]
    },
    {
      "cell_type": "markdown",
      "metadata": {
        "id": "zrinZJ1mC2TK"
      },
      "source": [
        "# Sequence Models and Long short-term memory Networks\n",
        "At this point, we have seen various feed-forward networks. That is, there is no state maintained by the network at all. This might not be the behavior we want. Sequence models are central to NLP: they are models where there is some sort of dependence through time between your inputs. The classical example of a sequence model is the Hidden Markov Model for part-of-speech tagging. Another example is the conditional random field.\n",
        "\n",
        "A recurrent neural network is a network that maintains some kind of state. For example, its output could be used as part of the next input, so that information can propogate along as the network passes over the sequence. In the case of an LSTM, for each element in the sequence, there is a corresponding *hidden state* $ h_t $​, which in principle can contain information from arbitrary points earlier in the sequence. We can use the hidden state to predict words in a language model, part-of-speech tags, and a myriad of other things.\n"
      ]
    },
    {
      "cell_type": "markdown",
      "metadata": {
        "id": "wTXYuQWdEhC0"
      },
      "source": [
        "Before getting to the example, note a few things. Pytorch's LSTM expects\n",
        "all of its inputs to be 3D tensors. The semantics of the axes of these\n",
        "tensors is important. The first axis is the sequence itself, the second\n",
        "indexes instances in the mini-batch, and the third indexes elements of\n",
        "the input. We haven't discussed mini-batching, so let's just ignore that\n",
        "and assume we will always have just 1 dimension on the second axis. If\n",
        "we want to run the sequence model over the sentence \"The cow jumped\",\n",
        "our input should look like\n",
        " \n",
        "\\begin{align}\\begin{bmatrix}\n",
        "   \\overbrace{q_\\text{The}}^\\text{row vector} \\\\\n",
        "   q_\\text{cow} \\\\\n",
        "   q_\\text{jumped}\n",
        "   \\end{bmatrix}\\end{align}\n",
        "\n",
        "Except remember there is an additional 2nd dimension with size 1.\n",
        " \n",
        "In addition, you could go through the sequence one at a time, in which\n",
        "case the 1st axis will have size 1 also.\n",
        " \n",
        "Let's see a quick example."
      ]
    },
    {
      "cell_type": "code",
      "metadata": {
        "colab": {
          "base_uri": "https://localhost:8080/"
        },
        "id": "vPbdWO8GmDEp",
        "outputId": "3630016d-f12a-471d-c7a0-3d52aac4122a"
      },
      "source": [
        "import torch\n",
        "import torch.nn as nn\n",
        "import torch.nn.functional as F\n",
        "import torch.optim as optim\n",
        "\n",
        "torch.manual_seed(1)"
      ],
      "execution_count": 2,
      "outputs": [
        {
          "output_type": "execute_result",
          "data": {
            "text/plain": [
              "<torch._C.Generator at 0x7fce5f47cab0>"
            ]
          },
          "metadata": {
            "tags": []
          },
          "execution_count": 2
        }
      ]
    },
    {
      "cell_type": "code",
      "metadata": {
        "id": "xSTVsxfXmXsr"
      },
      "source": [
        "lstm = nn.LSTM(3,3) # Input dimension is 3, and the output dimension is 3 too.\n",
        "inputs = [torch.randn(1, 3) for _ in range(5)] # make a sequence of length 5\n",
        "\n",
        "# initialize the hidden state\n",
        "hidden = (torch.randn(1,1,3),\n",
        "          torch.randn(1,1,3))\n",
        "for i in inputs:\n",
        "  out, hidden = lstm(i.view(1,1,-1),hidden)"
      ],
      "execution_count": 6,
      "outputs": []
    },
    {
      "cell_type": "code",
      "metadata": {
        "colab": {
          "base_uri": "https://localhost:8080/"
        },
        "id": "aTvFz3IWymuU",
        "outputId": "d0c6e473-3fff-4fe0-aaf9-9cf429a6a649"
      },
      "source": [
        "# alternatively, we can do the entire sequence all at once.\n",
        "# the first value returned by LSTM is all of the hidden states throughout\n",
        "# the sequence. the second is just the most recent hidden state\n",
        "# (compare the last slice of \"out\" with \"hidden\" below, they are the same)\n",
        "# The reason for this is that:\n",
        "# \"out\" will give you access to all hidden states in the sequence\n",
        "# \"hidden\" will allow you to continue the sequence and backpropagate,\n",
        "# by passing it as an argument  to the lstm at a later time\n",
        "# Add the extra 2nd dimension\n",
        "inputs = torch.cat(inputs).view(len(inputs),1,-1)\n",
        "hidden = (torch.randn(1,1,3),torch.randn(1,1,3))\n",
        "out, hidden = lstm(inputs, hidden)\n",
        "print(out)\n",
        "print(hidden)\n"
      ],
      "execution_count": 7,
      "outputs": [
        {
          "output_type": "stream",
          "text": [
            "tensor([[[ 0.3941, -0.2793,  0.1220]],\n",
            "\n",
            "        [[ 0.3006,  0.0331,  0.3227]],\n",
            "\n",
            "        [[ 0.1311,  0.0330, -0.1106]],\n",
            "\n",
            "        [[ 0.1626,  0.0292,  0.0416]],\n",
            "\n",
            "        [[ 0.1789,  0.1566,  0.0381]]], grad_fn=<StackBackward>)\n",
            "(tensor([[[0.1789, 0.1566, 0.0381]]], grad_fn=<StackBackward>), tensor([[[0.4998, 0.3463, 0.0569]]], grad_fn=<StackBackward>))\n"
          ],
          "name": "stdout"
        }
      ]
    },
    {
      "cell_type": "markdown",
      "metadata": {
        "id": "OeedYPVozLaw"
      },
      "source": [
        "## Example: An LSTM for Part-of-Speech Tagging\n",
        "In this section, we will use an LSTM to get part of speech tags. We won't use Viterbi or Forward-Backward or anything like that, but as a (challenging) exercise to the reader, think about how Viterbi could be used after you have seen what is going on. \n",
        "In this example, we also refer to embeddings.\n",
        "\n",
        "The model is as follows: let our input sentence be $ w_1, \\cdots, w_M $, where $ w_i $ belongs to $ V $, our vocab.\n",
        "Also, let $ T $ be our tag set, and $ y_i $ the tag of word $ w_i $. Denote our prediction of the tag of word $ w_i $ by $ \\hat y_i $.\n",
        "\n",
        "This is a structure prediction, model, where our output is a sequence  $ \\hat y_1, \\cdots, \\hat y_M $, where $ \\hat y_i ∈ T$.\n",
        "\n",
        "To do the prediction, pass an LSTM over the sentence. Denote the hidden\n",
        "state at timestep $i$ as $h_i$. Also, assign each tag a\n",
        "unique index (like how we had word\\_to\\_ix in the word embeddings\n",
        "section). Then our prediction rule for $\\hat{y}_i$ is\n",
        " \n",
        "\\begin{align}\\hat{y}_i = \\text{argmax}_j \\  (\\log \\text{Softmax}(Ah_i + b))_j\\end{align}\n",
        "\n",
        "That is, take the log softmax of the affine map of the hidden state,\n",
        "and the predicted tag is the tag that has the maximum value in this\n",
        "vector. Note this implies immediately that the dimensionality of the\n",
        "target space of $A$ is $|T|$.\n",
        " \n",
        " \n",
        "Prepare data:"
      ]
    },
    {
      "cell_type": "code",
      "metadata": {
        "colab": {
          "base_uri": "https://localhost:8080/"
        },
        "id": "NL1WsK55zDHQ",
        "outputId": "05193c85-b727-4645-f4c3-bea8143fd0ed"
      },
      "source": [
        "def prepare_sequence(seq, to_ix):\n",
        "  idxs = [to_ix[w] for w in seq]\n",
        "  return torch.tensor(idxs,dtype = torch.long)\n",
        "\n",
        "training_data = [\n",
        "  # Tags are: DET - determiner; NN - noun; V - ver\n",
        "  # For example, the word \"The\" is a determiner\n",
        "  (\"The dog ate the apple\".split(), [\"DET\",\"NN\",\"V\",\"DET\",\"NN\"]),\n",
        "  (\"Everybody read that book\".split(), [\"NN\", \"V\", \"DET\", \"NN\"])\n",
        "]\n",
        "word_to_ix = {}\n",
        "# For each words-list (sentence) and tags-list in each tuple of training_data\n",
        "for sent, tags in training_data:\n",
        "  for word in sent:\n",
        "    if word not in word_to_ix:\n",
        "      word_to_ix[word] = len(word_to_ix)\n",
        "print(word_to_ix)\n",
        "tag_to_ix = {\"DET\":0, \"NN\":1, \"V\":2}\n"
      ],
      "execution_count": 11,
      "outputs": [
        {
          "output_type": "stream",
          "text": [
            "{'The': 0, 'dog': 1, 'ate': 2, 'the': 3, 'apple': 4, 'Everybody': 5, 'read': 6, 'that': 7, 'book': 8}\n"
          ],
          "name": "stdout"
        }
      ]
    },
    {
      "cell_type": "code",
      "metadata": {
        "id": "rtsk4tnz6CFx"
      },
      "source": [
        "EMBEDDING_DIM = 6\n",
        "HIDDEN_DIM = 6\n",
        "\n",
        "class LSTMTagger(nn.Module):\n",
        "\n",
        "  def __init__(self, embedding_dim, hidden_dim, vocab_size, tagset_size):\n",
        "    super(LSTMTagger, self).__init__()\n",
        "    self.hidden_dim = hidden_dim\n",
        "    self.word_embeddings = nn.Embedding(vocab_size, embedding_dim)\n",
        "    self.lstm = nn.LSTM(embedding_dim, hidden_dim)\n",
        "    self.hidden2tag = nn.Linear(hidden_dim, tagset_size)\n",
        "  \n",
        "  def forward(self, sentence):\n",
        "    embeds = self.word_embeddings(sentence)\n",
        "    lstm_out, _ = self.lstm(embeds.view(len(sentence),1,-1))\n",
        "    tag_space = self.hidden2tag(lstm_out.view(len(sentence),-1))\n",
        "    tag_scores = F.log_softmax(tag_space, dim = 1)\n",
        "    return tag_scores"
      ],
      "execution_count": 16,
      "outputs": []
    },
    {
      "cell_type": "code",
      "metadata": {
        "colab": {
          "base_uri": "https://localhost:8080/"
        },
        "id": "VXYXHNbr8JOb",
        "outputId": "04864375-5634-4482-9659-1b50f6d65b73"
      },
      "source": [
        "model = LSTMTagger(EMBEDDING_DIM, HIDDEN_DIM,len(word_to_ix),len(tag_to_ix))\n",
        "loss_function = nn.NLLLoss()\n",
        "optimizer = optim.SGD(model.parameters(),lr = 0.1)\n",
        "\n",
        "with torch.no_grad():\n",
        "  inputs = prepare_sequence(training_data[0][0], word_to_ix)\n",
        "  tag_scores = model(inputs)\n",
        "  print(tag_scores)\n",
        "\n",
        "for epoch in range(300):\n",
        "  for sentence, tags in training_data:\n",
        "    model.zero_grad()\n",
        "\n",
        "    sentence_in = prepare_sequence(sentence,word_to_ix)\n",
        "    targets = prepare_sequence(tags, tag_to_ix)\n",
        "\n",
        "    tag_scores = model(sentence_in)\n",
        "\n",
        "    loss = loss_function(tag_scores, targets)\n",
        "    loss.backward()\n",
        "    optimizer.step()\n",
        "\n",
        "with torch.no_grad():\n",
        "    inputs = prepare_sequence(training_data[0][0], word_to_ix)\n",
        "    tag_scores = model(inputs)\n",
        "\n",
        "    print(tag_scores)"
      ],
      "execution_count": 17,
      "outputs": [
        {
          "output_type": "stream",
          "text": [
            "tensor([[-1.3747, -0.6954, -1.3936],\n",
            "        [-1.3148, -0.7536, -1.3439],\n",
            "        [-1.3490, -0.7199, -1.3716],\n",
            "        [-1.3210, -0.7491, -1.3458],\n",
            "        [-1.2844, -0.7818, -1.3258]])\n",
            "tensor([[-0.0268, -4.3567, -4.2986],\n",
            "        [-5.2154, -0.0301, -3.7195],\n",
            "        [-3.2546, -3.6441, -0.0669],\n",
            "        [-0.0309, -5.1158, -3.7140],\n",
            "        [-4.9647, -0.0170, -4.6165]])\n"
          ],
          "name": "stdout"
        }
      ]
    },
    {
      "cell_type": "markdown",
      "metadata": {
        "id": "dc7-DG1H_xmf"
      },
      "source": [
        "## Exercise: Augmenting the LSTM part-of-speech tagger with character-level features\n",
        "\n",
        "In the example above, each word had an embedding, which served as the\n",
        "inputs to our sequence model. Let's augment the word embeddings with a\n",
        "representation derived from the characters of the word. We expect that\n",
        "this should help significantly, since character-level information like\n",
        "affixes have a large bearing on part-of-speech. For example, words with\n",
        "the affix *-ly* are almost always tagged as adverbs in English.\n",
        "\n",
        "To do this, let $c_w$ be the character-level representation of\n",
        "word $w$. Let $x_w$ be the word embedding as before. Then\n",
        "the input to our sequence model is the concatenation of $x_w$ and\n",
        "$c_w$. So if $x_w$ has dimension 5, and $c_w$\n",
        "dimension 3, then our LSTM should accept an input of dimension 8.\n",
        "\n",
        "To get the character level representation, do an LSTM over the\n",
        "characters of a word, and let $c_w$ be the final hidden state of\n",
        "this LSTM. Hints:\n",
        "\n",
        "* There are going to be two LSTM's in your new model.\n",
        "  The original one that outputs POS tag scores, and the new one that\n",
        "  outputs a character-level representation of each word.\n",
        "* To do a sequence model over characters, you will have to embed characters.\n",
        "  The character embeddings will be the input to the character LSTM."
      ]
    }
  ]
}